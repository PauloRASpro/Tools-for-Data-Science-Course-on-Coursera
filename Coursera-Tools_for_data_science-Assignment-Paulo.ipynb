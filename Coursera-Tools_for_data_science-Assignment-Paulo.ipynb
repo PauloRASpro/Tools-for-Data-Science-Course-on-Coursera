{
 "cells": [
  {
   "cell_type": "markdown",
   "id": "e9555115",
   "metadata": {},
   "source": [
    "# My Jupyter Notebook on IBM Watson Studio"
   ]
  },
  {
   "cell_type": "markdown",
   "id": "ab4602b3",
   "metadata": {},
   "source": [
    "by __Paulo Roberto__\n",
    "\n",
    "Now I am working as a project manager, but I would liko to transition to the Data Scientist career as soon as I get prepared."
   ]
  },
  {
   "cell_type": "markdown",
   "id": "c6fb1641",
   "metadata": {},
   "source": [
    "_I am interested in data science because of the increase of data driven decision in my company. That triggered an opportunity to me initiate a change in my career._"
   ]
  },
  {
   "cell_type": "markdown",
   "id": "d9213426",
   "metadata": {},
   "source": [
    "### The code below will print a sequence from 0 to 9, line by line"
   ]
  },
  {
   "cell_type": "code",
   "execution_count": 1,
   "id": "35c031a9",
   "metadata": {},
   "outputs": [
    {
     "name": "stdout",
     "output_type": "stream",
     "text": [
      "0\n",
      "1\n",
      "2\n",
      "3\n",
      "4\n",
      "5\n",
      "6\n",
      "7\n",
      "8\n",
      "9\n"
     ]
    }
   ],
   "source": [
    "for i in range(0,10):\n",
    "    print(i)"
   ]
  },
  {
   "cell_type": "markdown",
   "id": "89aa19d9",
   "metadata": {},
   "source": [
    "The above code have a __loop for__ with only 3 steps:<br>\n",
    "1. Designing a _range_ of values from 0 to 9 (10 not counts in the statement), \n",
    "2. Attributing each value sequencially to the _i_ variable at each loop\n",
    "3. Printing the value of _i_ varible at each loop\n",
    "\n",
    "For more details of __loop for__, see <a href=\"https://wiki.python.org/moin/ForLoop\">Python Documentation</a>\n",
    "***\n",
    "This notebook is for the _Tools For Data Science_ Course on Coursera. All rights reserved.\n",
    "***"
   ]
  }
 ],
 "metadata": {
  "kernelspec": {
   "display_name": "Python 3 (ipykernel)",
   "language": "python",
   "name": "python3"
  },
  "language_info": {
   "codemirror_mode": {
    "name": "ipython",
    "version": 3
   },
   "file_extension": ".py",
   "mimetype": "text/x-python",
   "name": "python",
   "nbconvert_exporter": "python",
   "pygments_lexer": "ipython3",
   "version": "3.9.13"
  }
 },
 "nbformat": 4,
 "nbformat_minor": 5
}
